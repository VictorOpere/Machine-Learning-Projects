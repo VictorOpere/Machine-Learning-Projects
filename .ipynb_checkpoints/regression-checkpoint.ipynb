{
 "cells": [
  {
   "cell_type": "code",
   "execution_count": null,
   "metadata": {},
   "outputs": [],
   "source": [
    "import quandl,  math, datetime\n",
    "import pandas as pd\n",
    "import numpy as np\n",
    "from sklearn import preprocessing, svm\n",
    "from sklearn.linear_model import LinearRegression\n",
    "from sklearn.model_selection import train_test_split\n",
    "import matplotlib.pyplot as plt\n",
    "from matplotlib import style\n",
    "import pickle \n",
    "\n",
    "\n",
    "\n",
    "style.use('ggplot')\n",
    "\n",
    "\n",
    "\n",
    "\n",
    "\n",
    "\n",
    "df = quandl.get('WIKI/GOOGL')\n",
    "\n",
    "print(df.head())\n"
   ]
  },
  {
   "cell_type": "code",
   "execution_count": null,
   "metadata": {},
   "outputs": [],
   "source": [
    "# we are creating the Features for our Regression algorithm\n",
    "\n",
    "df = df[['Adj. Open',  'Adj. High',  'Adj. Low',  'Adj. Close', 'Adj. Volume',]]\n",
    "\n",
    "df['HL_PCT'] = (df['Adj. High'] - df['Adj. Close']) / df['Adj. Close'] * 100.0\n",
    "\n",
    "df['PCT_change'] = (df['Adj. Close'] - df['Adj. Open']) / df['Adj. Open'] * 100.0\n",
    "\n",
    "df = df[['Adj. Close', 'HL_PCT', 'PCT_change', 'Adj. Volume',]]\n",
    "\n",
    "print(df.head())\n",
    "\n"
   ]
  },
  {
   "cell_type": "code",
   "execution_count": null,
   "metadata": {},
   "outputs": [],
   "source": [
    "forecast_col = 'Adj. Close'\n",
    "\n",
    "# if there is missing data in our dataset\n",
    "\n",
    "df.fillna('-99999', inplace=True)\n",
    "\n",
    "forecast_out = int(math.ceil(0.1*len(df)))\n",
    "\n",
    "\n",
    "\n",
    "\n"
   ]
  },
  {
   "cell_type": "code",
   "execution_count": null,
   "metadata": {},
   "outputs": [],
   "source": [
    "# creating the dataframe for the label\n",
    "\n",
    "df['label'] = df[forecast_col].shift(-forecast_out)\n",
    "\n",
    "\n",
    "\n",
    "\n",
    "# print(df.tail())\n",
    "\n",
    "print(df.head())\n",
    "\n",
    "\n"
   ]
  },
  {
   "cell_type": "code",
   "execution_count": null,
   "metadata": {},
   "outputs": [],
   "source": [
    "# lets scale our Features\n",
    "\n",
    "X = preprocessing.scale(X)\n",
    "X_lately = X[-forecast_out:]\n",
    "X = X[:-forecast_out:]\n",
    "\n",
    "# lets print our new output\n",
    "\n",
    "df.dropna(inplace=True)\n",
    "\n",
    "y = np.array(df['label'])\n",
    "y = np.array(df['label'])\n"
   ]
  },
  {
   "cell_type": "code",
   "execution_count": null,
   "metadata": {},
   "outputs": [],
   "source": [
    "# features are represented by Letter X and labels by y\n",
    "\n",
    "X = np.array(df.drop(['label'], 1))\n",
    "\n",
    "\n"
   ]
  },
  {
   "cell_type": "code",
   "execution_count": null,
   "metadata": {},
   "outputs": [],
   "source": [
    "\n",
    "# print(len(X),len(y))\n",
    "\n",
    "X_train, X_test, y_train, y_test = train_test_split(X, y , test_size=0.2)\n",
    "\n",
    "\n"
   ]
  },
  {
   "cell_type": "code",
   "execution_count": null,
   "metadata": {},
   "outputs": [],
   "source": [
    "\n",
    "\n"
   ]
  },
  {
   "cell_type": "code",
   "execution_count": null,
   "metadata": {},
   "outputs": [],
   "source": [
    "# for the classifiers for our features and labels\n",
    "\n",
    "clf = LinearRegression()\n",
    "\n",
    "# clf = svm.SVR(kernel='poly')\n",
    "\n",
    "# for training\n",
    "clf.fit(X_train, y_train)\n",
    "\n",
    "# lets use pickle to save our algorithm model\n",
    "\n",
    "# with open('linearregression.pickle','wb') as f:\n",
    "#      pickle.dumps(clf, f)\n",
    "\n",
    "# pickle_in = open('linearregression.pickle', 'wb')\n",
    "# clf = pickle.load(pickle_in)\n",
    "\n",
    "\n",
    "# for testing\n",
    "accuracy = clf.score(X_test, y_test)\n",
    "\n",
    "# lets print to show the accuracy of our model\n",
    "# print(accuracy)\n",
    "\n",
    "\n"
   ]
  },
  {
   "cell_type": "code",
   "execution_count": null,
   "metadata": {},
   "outputs": [],
   "source": [
    "# lets start our prediction\n",
    "\n",
    "forecast_set = clf.predict(X_lately)\n",
    "\n",
    "# lets print the forecast_set\n",
    "\n",
    "print(forecast_set, accuracy, forecast_out)\n",
    "\n"
   ]
  },
  {
   "cell_type": "code",
   "execution_count": null,
   "metadata": {},
   "outputs": [],
   "source": [
    "# lets do some stuff\n",
    "\n",
    "df['Forecast'] = np.nan\n",
    "\n",
    "last_date = df.iloc[-1].name\n",
    "\n",
    "last_unix = last_date.timestamp()\n",
    "\n",
    "one_day = 86400\n",
    "\n",
    "next_unix = last_unix + one_day\n",
    "\n",
    "for i in forecast_set:\n",
    "    next_date = datetime.datetime.fromtimestamp(next_unix)\n",
    "    next_unix += one_day\n",
    "    df.loc[next_date] = [np.nan for _ in range(len(df.columns)-1)] + [i]\n",
    "    \n",
    "# lets do some plotting\n",
    "    \n",
    "df['Adj. Close'].plot()\n",
    "df['Forecast'].plot()\n",
    "plt.legend(loc=4)\n",
    "plt.xlabel('Date')\n",
    "plt.ylabel('Price')\n",
    "\n",
    "\n",
    "\n"
   ]
  },
  {
   "cell_type": "code",
   "execution_count": null,
   "metadata": {},
   "outputs": [],
   "source": []
  },
  {
   "cell_type": "code",
   "execution_count": null,
   "metadata": {},
   "outputs": [],
   "source": []
  },
  {
   "cell_type": "code",
   "execution_count": null,
   "metadata": {},
   "outputs": [],
   "source": []
  },
  {
   "cell_type": "code",
   "execution_count": null,
   "metadata": {},
   "outputs": [],
   "source": []
  }
 ],
 "metadata": {
  "kernelspec": {
   "display_name": "Python 3",
   "language": "python",
   "name": "python3"
  },
  "language_info": {
   "codemirror_mode": {
    "name": "ipython",
    "version": 3
   },
   "file_extension": ".py",
   "mimetype": "text/x-python",
   "name": "python",
   "nbconvert_exporter": "python",
   "pygments_lexer": "ipython3",
   "version": "3.7.4"
  }
 },
 "nbformat": 4,
 "nbformat_minor": 2
}
