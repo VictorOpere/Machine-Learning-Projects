{
 "cells": [
  {
   "cell_type": "code",
   "execution_count": 2,
   "metadata": {},
   "outputs": [],
   "source": [
    "from statistics import mean\n",
    "import numpy as np\n",
    "import matplotlib.pyplot as plt\n",
    "from matplotlib import style\n",
    "import random \n",
    "\n",
    "style.use('fivethirtyeight')\n",
    "\n",
    "# xs = [1,2,3,4,5,6]\n",
    "# ys = [5,4,6,5,6,7]\n",
    "\n",
    "# lets covert this is to a numpy array\n",
    "\n",
    "xs = np.array([1,2,3,4,5,6], dtype=np.float64)\n",
    "ys = np.array([5,4,6,5,6,7], dtype=np.float64)\n",
    "\n",
    "\n",
    "\n",
    "\n",
    "\n"
   ]
  },
  {
   "cell_type": "code",
   "execution_count": 3,
   "metadata": {},
   "outputs": [
    {
     "data": {
      "text/plain": [
       "<matplotlib.collections.PathCollection at 0x18dad213108>"
      ]
     },
     "execution_count": 3,
     "metadata": {},
     "output_type": "execute_result"
    },
    {
     "data": {
      "image/png": "[encoded data removed]",
      "text/plain": [
       "<Figure size 432x288 with 1 Axes>"
      ]
     },
     "metadata": {
      "needs_background": "light"
     },
     "output_type": "display_data"
    }
   ],
   "source": [
    "# lets do some simple plotting\n",
    "\n",
    "# plt.plot(xs,ys)\n",
    "\n",
    "# lets make it a scatter plot\n",
    "\n",
    "plt.scatter(xs, ys)\n",
    "\n",
    "\n"
   ]
  },
  {
   "cell_type": "code",
   "execution_count": 4,
   "metadata": {},
   "outputs": [],
   "source": [
    "def create_dataset(hm,variance,step=2,correlation=False):\n",
    "    val = 1\n",
    "    ys = []\n",
    "    for i in range(hm):\n",
    "        y = val + random.randrange(-variance,variance)\n",
    "        ys.append(y)\n",
    "        if correlation and correlation == 'pos':\n",
    "            val+=step\n",
    "        elif correlation and correlation == 'neg':\n",
    "            val-=step\n",
    "\n",
    "    xs = [i for i in range(len(ys))]\n",
    "    \n",
    "    return np.array(xs, dtype=np.float64),np.array(ys,dtype=np.float64)\n"
   ]
  },
  {
   "cell_type": "code",
   "execution_count": 5,
   "metadata": {},
   "outputs": [],
   "source": [
    "# lets define a function that creates the best fit slope\n",
    "\n",
    "def best_fit_slope_and_intercept(xs, ys):\n",
    "    \n",
    "    m = ( ((mean(xs) * mean(ys)) - mean(xs * ys))  / \n",
    "        \n",
    "         ((mean(xs)**2) - mean(xs**2)))\n",
    "    \n",
    "    b = mean(ys) - m*mean(xs)\n",
    "\n",
    "    \n",
    "    return m, b\n",
    "\n",
    "\n",
    "\n",
    "\n",
    "\n",
    "    "
   ]
  },
  {
   "cell_type": "code",
   "execution_count": 6,
   "metadata": {},
   "outputs": [],
   "source": [
    "# r2 is a measure of how good our best line of fit is\n",
    "\n",
    "def squared_error(ys_orig, ys_line):\n",
    "    \n",
    "    return sum((ys_line - ys_orig) ** 2)\n",
    "\n"
   ]
  },
  {
   "cell_type": "code",
   "execution_count": 7,
   "metadata": {},
   "outputs": [],
   "source": [
    "# lets determine the coefficient of determination\n",
    "\n",
    "def coefficient_of_determination(ys_orig, ys_line):\n",
    "    \n",
    "    y_mean_line = [ mean(ys_orig) for y in ys_orig ]\n",
    "    \n",
    "    squared_error_regr = squared_error(ys_orig, ys_line)\n",
    "    \n",
    "    squared_error_y_mean = squared_error(ys_orig, y_mean_line)\n",
    "    \n",
    "    myresult =  1 - ( squared_error_regr / squared_error_y_mean )\n",
    "    \n",
    "    return myresult\n",
    "\n"
   ]
  },
  {
   "cell_type": "code",
   "execution_count": 8,
   "metadata": {},
   "outputs": [
    {
     "name": "stdout",
     "output_type": "stream",
     "text": [
      "0.42857142857142866 4.0\n"
     ]
    }
   ],
   "source": [
    "m, b = best_fit_slope_and_intercept(xs, ys)\n",
    "\n",
    "# lets print our m independent variable in y=mx+c\n",
    "\n",
    "print(m, b)\n",
    "\n",
    "# lets create our line of best fit\n",
    "\n",
    "regression_lines = [(m*x)+b for x in xs]"
   ]
  },
  {
   "cell_type": "code",
   "execution_count": 9,
   "metadata": {},
   "outputs": [],
   "source": [
    "#  for purposes of testing\n",
    "\n",
    "predict_x = 8\n",
    "predict_y = (m*predict_x )+b\n",
    "\n"
   ]
  },
  {
   "cell_type": "code",
   "execution_count": 10,
   "metadata": {},
   "outputs": [],
   "source": [
    "# r_squared = coefficient_of_determination(ys_orig, regression_lines)\n",
    "\n",
    "# print(r_squared)\n",
    "\n",
    "xs, ys = create_dataset(40,40,2,correlation='pos')\n",
    "\n"
   ]
  },
  {
   "cell_type": "code",
   "execution_count": 11,
   "metadata": {},
   "outputs": [
    {
     "ename": "NameError",
     "evalue": "name 'regression_line' is not defined",
     "output_type": "error",
     "traceback": [
      "\u001b[1;31m---------------------------------------------------------------------------\u001b[0m",
      "\u001b[1;31mNameError\u001b[0m                                 Traceback (most recent call last)",
      "\u001b[1;32m<ipython-input-11-ece5afe50837>\u001b[0m in \u001b[0;36m<module>\u001b[1;34m\u001b[0m\n\u001b[0;32m      2\u001b[0m \u001b[1;33m\u001b[0m\u001b[0m\n\u001b[0;32m      3\u001b[0m \u001b[0mplt\u001b[0m\u001b[1;33m.\u001b[0m\u001b[0mscatter\u001b[0m\u001b[1;33m(\u001b[0m\u001b[0mxs\u001b[0m\u001b[1;33m,\u001b[0m\u001b[0mys\u001b[0m\u001b[1;33m,\u001b[0m\u001b[0mcolor\u001b[0m\u001b[1;33m=\u001b[0m\u001b[1;34m'#003F72'\u001b[0m\u001b[1;33m,\u001b[0m \u001b[0mlabel\u001b[0m \u001b[1;33m=\u001b[0m \u001b[1;34m'data'\u001b[0m\u001b[1;33m)\u001b[0m\u001b[1;33m\u001b[0m\u001b[1;33m\u001b[0m\u001b[0m\n\u001b[1;32m----> 4\u001b[1;33m \u001b[0mplt\u001b[0m\u001b[1;33m.\u001b[0m\u001b[0mplot\u001b[0m\u001b[1;33m(\u001b[0m\u001b[0mxs\u001b[0m\u001b[1;33m,\u001b[0m \u001b[0mregression_line\u001b[0m\u001b[1;33m,\u001b[0m \u001b[0mlabel\u001b[0m \u001b[1;33m=\u001b[0m \u001b[1;34m'regression line'\u001b[0m\u001b[1;33m)\u001b[0m\u001b[1;33m\u001b[0m\u001b[1;33m\u001b[0m\u001b[0m\n\u001b[0m\u001b[0;32m      5\u001b[0m \u001b[0mplt\u001b[0m\u001b[1;33m.\u001b[0m\u001b[0mlegend\u001b[0m\u001b[1;33m(\u001b[0m\u001b[0mloc\u001b[0m\u001b[1;33m=\u001b[0m\u001b[1;36m4\u001b[0m\u001b[1;33m)\u001b[0m\u001b[1;33m\u001b[0m\u001b[1;33m\u001b[0m\u001b[0m\n\u001b[0;32m      6\u001b[0m \u001b[1;33m\u001b[0m\u001b[0m\n",
      "\u001b[1;31mNameError\u001b[0m: name 'regression_line' is not defined"
     ]
    },
    {
     "data": {
      "image/png": "[encoded data removed]",
      "text/plain": [
       "<Figure size 432x288 with 1 Axes>"
      ]
     },
     "metadata": {
      "needs_background": "light"
     },
     "output_type": "display_data"
    }
   ],
   "source": [
    "# lets plot our regression graph\n",
    "\n",
    "plt.scatter(xs,ys,color='#003F72', label = 'data')\n",
    "plt.plot(xs, regression_line, label = 'regression line')\n",
    "plt.legend(loc=4)\n",
    "\n",
    "\n",
    "\n",
    "\n"
   ]
  },
  {
   "cell_type": "code",
   "execution_count": null,
   "metadata": {},
   "outputs": [],
   "source": [
    "\n",
    "\n"
   ]
  },
  {
   "cell_type": "code",
   "execution_count": null,
   "metadata": {},
   "outputs": [],
   "source": []
  },
  {
   "cell_type": "code",
   "execution_count": null,
   "metadata": {},
   "outputs": [],
   "source": []
  }
 ],
 "metadata": {
  "kernelspec": {
   "display_name": "Python 3",
   "language": "python",
   "name": "python3"
  },
  "language_info": {
   "codemirror_mode": {
    "name": "ipython",
    "version": 3
   },
   "file_extension": ".py",
   "mimetype": "text/x-python",
   "name": "python",
   "nbconvert_exporter": "python",
   "pygments_lexer": "ipython3",
   "version": "3.7.4"
  }
 },
 "nbformat": 4,
 "nbformat_minor": 2
}
